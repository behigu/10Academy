{
  "nbformat": 4,
  "nbformat_minor": 0,
  "metadata": {
    "colab": {
      "name": "Task1.2.ipynb",
      "provenance": [],
      "collapsed_sections": [],
      "include_colab_link": true
    },
    "kernelspec": {
      "name": "python3",
      "display_name": "Python 3"
    },
    "language_info": {
      "name": "python"
    }
  },
  "cells": [
    {
      "cell_type": "markdown",
      "metadata": {
        "id": "view-in-github",
        "colab_type": "text"
      },
      "source": [
        "<a href=\"https://colab.research.google.com/github/behigu/10Academy/blob/main/week2/notebooks/Task1_2.ipynb\" target=\"_parent\"><img src=\"https://colab.research.google.com/assets/colab-badge.svg\" alt=\"Open In Colab\"/></a>"
      ]
    },
    {
      "cell_type": "code",
      "metadata": {
        "colab": {
          "base_uri": "https://localhost:8080/"
        },
        "id": "zBPu-zKDLm9y",
        "outputId": "663204c2-5b00-4ac8-8c56-c0e5c3c521ca"
      },
      "source": [
        "#import all necessary libraries\n",
        "import pandas as pd\n",
        "import numpy as np\n",
        "import matplotlib.pyplot as plt\n",
        "import scipy.stats as scs\n",
        "import statsmodels.api as sm\n",
        "import seaborn as sns\n",
        "from sklearn import preprocessing \n",
        "from sklearn.preprocessing import scale\n",
        "from scipy.stats import spearmanr\n",
        "from sklearn.preprocessing import MinMaxScaler\n",
        "from sklearn.model_selection import train_test_split\n",
        "from sklearn.linear_model import LogisticRegression\n",
        "from sklearn.tree import DecisionTreeClassifier\n",
        "from sklearn.model_selection import KFold\n",
        "from sklearn.model_selection import cross_val_score\n",
        "from sklearn.metrics import log_loss\n",
        "from sklearn import metrics\n",
        "from matplotlib import rcParams\n",
        "from matplotlib.pyplot import pie, axis, show\n",
        "from scipy.stats import norm\n",
        "import xgboost as xgb\n"
      ],
      "execution_count": 1,
      "outputs": [
        {
          "output_type": "stream",
          "text": [
            "/usr/local/lib/python3.7/dist-packages/statsmodels/tools/_testing.py:19: FutureWarning: pandas.util.testing is deprecated. Use the functions in the public API at pandas.testing instead.\n",
            "  import pandas.util.testing as tm\n"
          ],
          "name": "stderr"
        }
      ]
    },
    {
      "cell_type": "code",
      "metadata": {
        "colab": {
          "base_uri": "https://localhost:8080/"
        },
        "id": "aBZTvMSVQHGD",
        "outputId": "190393fd-4396-4b7b-8109-709907715d32"
      },
      "source": [
        "from google.colab import drive\n",
        "drive.mount('/content/drive')"
      ],
      "execution_count": 2,
      "outputs": [
        {
          "output_type": "stream",
          "text": [
            "Mounted at /content/drive\n"
          ],
          "name": "stdout"
        }
      ]
    },
    {
      "cell_type": "code",
      "metadata": {
        "id": "HsuN3eorMMah"
      },
      "source": [
        "pd.set_option('max_column', None)\n",
        "df= pd.read_csv('drive/MyDrive/ColabNotebooks/AdSmartABdata.csv')"
      ],
      "execution_count": 3,
      "outputs": []
    },
    {
      "cell_type": "code",
      "metadata": {
        "colab": {
          "base_uri": "https://localhost:8080/",
          "height": 142
        },
        "id": "UfkeOEKKV4P8",
        "outputId": "02e06894-b685-40d7-f8b9-56a3faba524e"
      },
      "source": [
        "df.head(3)"
      ],
      "execution_count": 4,
      "outputs": [
        {
          "output_type": "execute_result",
          "data": {
            "text/html": [
              "<div>\n",
              "<style scoped>\n",
              "    .dataframe tbody tr th:only-of-type {\n",
              "        vertical-align: middle;\n",
              "    }\n",
              "\n",
              "    .dataframe tbody tr th {\n",
              "        vertical-align: top;\n",
              "    }\n",
              "\n",
              "    .dataframe thead th {\n",
              "        text-align: right;\n",
              "    }\n",
              "</style>\n",
              "<table border=\"1\" class=\"dataframe\">\n",
              "  <thead>\n",
              "    <tr style=\"text-align: right;\">\n",
              "      <th></th>\n",
              "      <th>auction_id</th>\n",
              "      <th>experiment</th>\n",
              "      <th>date</th>\n",
              "      <th>hour</th>\n",
              "      <th>device_make</th>\n",
              "      <th>platform_os</th>\n",
              "      <th>browser</th>\n",
              "      <th>yes</th>\n",
              "      <th>no</th>\n",
              "    </tr>\n",
              "  </thead>\n",
              "  <tbody>\n",
              "    <tr>\n",
              "      <th>0</th>\n",
              "      <td>0008ef63-77a7-448b-bd1e-075f42c55e39</td>\n",
              "      <td>exposed</td>\n",
              "      <td>2020-07-10</td>\n",
              "      <td>8</td>\n",
              "      <td>Generic Smartphone</td>\n",
              "      <td>6</td>\n",
              "      <td>Chrome Mobile</td>\n",
              "      <td>0</td>\n",
              "      <td>0</td>\n",
              "    </tr>\n",
              "    <tr>\n",
              "      <th>1</th>\n",
              "      <td>000eabc5-17ce-4137-8efe-44734d914446</td>\n",
              "      <td>exposed</td>\n",
              "      <td>2020-07-07</td>\n",
              "      <td>10</td>\n",
              "      <td>Generic Smartphone</td>\n",
              "      <td>6</td>\n",
              "      <td>Chrome Mobile</td>\n",
              "      <td>0</td>\n",
              "      <td>0</td>\n",
              "    </tr>\n",
              "    <tr>\n",
              "      <th>2</th>\n",
              "      <td>0016d14a-ae18-4a02-a204-6ba53b52f2ed</td>\n",
              "      <td>exposed</td>\n",
              "      <td>2020-07-05</td>\n",
              "      <td>2</td>\n",
              "      <td>E5823</td>\n",
              "      <td>6</td>\n",
              "      <td>Chrome Mobile WebView</td>\n",
              "      <td>0</td>\n",
              "      <td>1</td>\n",
              "    </tr>\n",
              "  </tbody>\n",
              "</table>\n",
              "</div>"
            ],
            "text/plain": [
              "                             auction_id experiment        date  hour  \\\n",
              "0  0008ef63-77a7-448b-bd1e-075f42c55e39    exposed  2020-07-10     8   \n",
              "1  000eabc5-17ce-4137-8efe-44734d914446    exposed  2020-07-07    10   \n",
              "2  0016d14a-ae18-4a02-a204-6ba53b52f2ed    exposed  2020-07-05     2   \n",
              "\n",
              "          device_make  platform_os                browser  yes  no  \n",
              "0  Generic Smartphone            6          Chrome Mobile    0   0  \n",
              "1  Generic Smartphone            6          Chrome Mobile    0   0  \n",
              "2               E5823            6  Chrome Mobile WebView    0   1  "
            ]
          },
          "metadata": {
            "tags": []
          },
          "execution_count": 4
        }
      ]
    },
    {
      "cell_type": "code",
      "metadata": {
        "colab": {
          "base_uri": "https://localhost:8080/"
        },
        "id": "3YL1H_h2WAhT",
        "outputId": "b3f0e0d0-46c8-4364-a1d1-607182904769"
      },
      "source": [
        "#filter users who chose \"yes\" or \"no\"\n",
        "responded = df[(df.yes == 1)|(df.no == 1)].reset_index()\n",
        "#drop the index from the original dataset\n",
        "responded.drop('index', axis=1, inplace=True)\n",
        "responded.shape"
      ],
      "execution_count": 5,
      "outputs": [
        {
          "output_type": "execute_result",
          "data": {
            "text/plain": [
              "(1243, 9)"
            ]
          },
          "metadata": {
            "tags": []
          },
          "execution_count": 5
        }
      ]
    },
    {
      "cell_type": "code",
      "metadata": {
        "colab": {
          "base_uri": "https://localhost:8080/"
        },
        "id": "z413EAFaWHwb",
        "outputId": "61e8c8a7-7751-48a6-c81f-0892c9e1f53f"
      },
      "source": [
        "#get unique values of each column\n",
        "responded.nunique()"
      ],
      "execution_count": 6,
      "outputs": [
        {
          "output_type": "execute_result",
          "data": {
            "text/plain": [
              "auction_id     1243\n",
              "experiment        2\n",
              "date              8\n",
              "hour             24\n",
              "device_make     115\n",
              "platform_os       2\n",
              "browser           8\n",
              "yes               2\n",
              "no                2\n",
              "dtype: int64"
            ]
          },
          "metadata": {
            "tags": []
          },
          "execution_count": 6
        }
      ]
    },
    {
      "cell_type": "code",
      "metadata": {
        "id": "RUrT_xJCWMQL"
      },
      "source": [
        "def count_plot(variable):\n",
        "    sns.countplot(x=variable, data=responded)\n",
        "    \n",
        "def bar_plot(variable):\n",
        "    sns.barplot(y=variable, x='yes', data=responded, orient='h')"
      ],
      "execution_count": 7,
      "outputs": []
    },
    {
      "cell_type": "code",
      "metadata": {
        "colab": {
          "base_uri": "https://localhost:8080/",
          "height": 264
        },
        "id": "UvlEQhWMWXtr",
        "outputId": "91eece3b-c62c-4029-fdc7-6c384570a7b5"
      },
      "source": [
        "sums = responded[\"yes\"].groupby(responded.experiment).sum()\n",
        "plt.title(\"experiment group count\")\n",
        "axis('equal');\n",
        "pie(sums, labels=sums.index);\n",
        "show()"
      ],
      "execution_count": 8,
      "outputs": [
        {
          "output_type": "display_data",
          "data": {
            "image/png": "[encoded data removed]",
            "text/plain": [
              "<Figure size 432x288 with 1 Axes>"
            ]
          },
          "metadata": {
            "tags": []
          }
        }
      ]
    },
    {
      "cell_type": "code",
      "metadata": {
        "colab": {
          "base_uri": "https://localhost:8080/",
          "height": 567
        },
        "id": "e6RPM1PzWa2j",
        "outputId": "587e53af-6fbe-4f39-ad62-94e0f1e55cbe"
      },
      "source": [
        "#plot value counts columns\n",
        "plt.figure(figsize=(12,9))\n",
        "plt.title(\"date count plot\")\n",
        "count_plot( \"date\")"
      ],
      "execution_count": 9,
      "outputs": [
        {
          "output_type": "display_data",
          "data": {
            "image/png": "[encoded data removed]",
            "text/plain": [
              "<Figure size 864x648 with 1 Axes>"
            ]
          },
          "metadata": {
            "tags": [],
            "needs_background": "light"
          }
        }
      ]
    },
    {
      "cell_type": "code",
      "metadata": {
        "colab": {
          "base_uri": "https://localhost:8080/",
          "height": 567
        },
        "id": "0G-PmbyZWiYr",
        "outputId": "9c157bda-2dc9-4b70-a96d-248f5cb7ea0b"
      },
      "source": [
        "plt.figure(figsize=(12,9))\n",
        "plt.title(\"hour count plot\")\n",
        "count_plot( \"hour\")"
      ],
      "execution_count": 10,
      "outputs": [
        {
          "output_type": "display_data",
          "data": {
            "image/png": "[encoded data removed]",
            "text/plain": [
              "<Figure size 864x648 with 1 Axes>"
            ]
          },
          "metadata": {
            "tags": [],
            "needs_background": "light"
          }
        }
      ]
    },
    {
      "cell_type": "code",
      "metadata": {
        "colab": {
          "base_uri": "https://localhost:8080/",
          "height": 567
        },
        "id": "JcMJbbG4WvbT",
        "outputId": "f4f4151c-2cd3-40a9-9f3c-4170c9bb60bf"
      },
      "source": [
        "plt.figure(figsize=(21,9))\n",
        "plt.title(\"browser count plot\")\n",
        "count_plot(\"browser\")"
      ],
      "execution_count": 11,
      "outputs": [
        {
          "output_type": "display_data",
          "data": {
            "image/png": "[encoded data removed]",
            "text/plain": [
              "<Figure size 1512x648 with 1 Axes>"
            ]
          },
          "metadata": {
            "tags": [],
            "needs_background": "light"
          }
        }
      ]
    },
    {
      "cell_type": "code",
      "metadata": {
        "colab": {
          "base_uri": "https://localhost:8080/",
          "height": 730
        },
        "id": "PuH_GpSxXv-1",
        "outputId": "578c0616-2442-48a3-9c8b-5af25a8940b0"
      },
      "source": [
        "#The plot below shows the portion of users who said \"yes\" per hour. It looks users responding at 23:00 o'clock, whatever their number, said \"yes\"\n",
        "plt.figure(figsize=(15,12))\n",
        "plt.title(\"hour vs yes count\")\n",
        "bar_plot('hour')"
      ],
      "execution_count": 12,
      "outputs": [
        {
          "output_type": "display_data",
          "data": {
            "image/png": "[encoded data removed]",
            "text/plain": [
              "<Figure size 1080x864 with 1 Axes>"
            ]
          },
          "metadata": {
            "tags": [],
            "needs_background": "light"
          }
        }
      ]
    },
    {
      "cell_type": "code",
      "metadata": {
        "colab": {
          "base_uri": "https://localhost:8080/",
          "height": 404
        },
        "id": "yCyedIxhX33E",
        "outputId": "08aadcf6-e190-4213-feb7-bf25f92e1c98"
      },
      "source": [
        "#In the plot below, we can see that more users in the exposed group said yes than in control group. But we need to rely on the A/B test to confirm this.\n",
        "plt.figure(figsize=(8,6))\n",
        "plt.title(\"experiment vs yes count\")\n",
        "bar_plot('experiment')"
      ],
      "execution_count": 13,
      "outputs": [
        {
          "output_type": "display_data",
          "data": {
            "image/png": "[encoded data removed]",
            "text/plain": [
              "<Figure size 576x432 with 1 Axes>"
            ]
          },
          "metadata": {
            "tags": [],
            "needs_background": "light"
          }
        }
      ]
    },
    {
      "cell_type": "code",
      "metadata": {
        "id": "ASXNcBAOYTiF"
      },
      "source": [
        "#Part 2: Classical A/B testing\n",
        "\n",
        "#Let's carry out classical A/B testing by calculating p-vale using statistical tests\n",
        "\n",
        "#subset of users with id and group only\n"
      ],
      "execution_count": 14,
      "outputs": []
    },
    {
      "cell_type": "code",
      "metadata": {
        "colab": {
          "base_uri": "https://localhost:8080/",
          "height": 180
        },
        "id": "xLXR82-t8Y1a",
        "outputId": "9b6844d7-6a7b-4166-dc94-495e7cc89245"
      },
      "source": [
        "#check if we have sufficient sample size\n",
        "ml_data.info()"
      ],
      "execution_count": 15,
      "outputs": [
        {
          "output_type": "error",
          "ename": "NameError",
          "evalue": "ignored",
          "traceback": [
            "\u001b[0;31m---------------------------------------------------------------------------\u001b[0m",
            "\u001b[0;31mNameError\u001b[0m                                 Traceback (most recent call last)",
            "\u001b[0;32m<ipython-input-15-329ad9633908>\u001b[0m in \u001b[0;36m<module>\u001b[0;34m()\u001b[0m\n\u001b[1;32m      1\u001b[0m \u001b[0;31m#check if we have sufficient sample size\u001b[0m\u001b[0;34m\u001b[0m\u001b[0;34m\u001b[0m\u001b[0;34m\u001b[0m\u001b[0m\n\u001b[0;32m----> 2\u001b[0;31m \u001b[0mml_data\u001b[0m\u001b[0;34m.\u001b[0m\u001b[0minfo\u001b[0m\u001b[0;34m(\u001b[0m\u001b[0;34m)\u001b[0m\u001b[0;34m\u001b[0m\u001b[0;34m\u001b[0m\u001b[0m\n\u001b[0m",
            "\u001b[0;31mNameError\u001b[0m: name 'ml_data' is not defined"
          ]
        }
      ]
    },
    {
      "cell_type": "markdown",
      "metadata": {
        "id": "3wTrDi-9wVci"
      },
      "source": [
        "##Classic A/B testing analysis\n",
        "\n",
        "**Null hypothesis**: there is no significant difference in brand awareness between the exposed and control groups in the current case\n",
        "\n",
        "**Alternate hypothesis**: there is a significant difference in brand awareness between the exposed and control groups in the current case\n",
        "with an assumptiono of this two\n",
        "\n",
        "- form the bussiness perspective lets say a 2% brand awarenes increase woul be practically significant.dmin=0.02\n",
        "- and have a confidence level of 95%\n",
        "Ho:d=0 d~N(0,SEpool)\n",
        "If d>1.96SEpool or d<-1.96SEpool Reject the null"
      ]
    },
    {
      "cell_type": "code",
      "metadata": {
        "colab": {
          "base_uri": "https://localhost:8080/"
        },
        "id": "E7_Viw2vvgXz",
        "outputId": "8081f9c2-aee9-40f3-8aeb-dc8aeb435b26"
      },
      "source": [
        "Co_df=df.query(\"experiment=='control'\")\n",
        "Co_not_ans_df = df.query(\"yes == 0 & no == 0\")\n",
        "Co_Yes_ans_df=df.query(\"yes == 1\")\n",
        "print(f\"the number of users that did not respond in the control group is {Co_not_ans_df.shape[0]} \")\n",
        "print(f\"the number of users that did  respond yes in the Control group is {Co_Yes_ans_df.shape[0]} \")\n",
        "Xcon=Co_Yes_ans_df.shape[0]\n",
        "print(f\"the percentage of users that did not respond in the control group is {(Co_not_ans_df.shape[0] / Co_df.shape[0]) * 100}% \")"
      ],
      "execution_count": 16,
      "outputs": [
        {
          "output_type": "stream",
          "text": [
            "the number of users that did not respond in the control group is 6834 \n",
            "the number of users that did  respond yes in the Control group is 572 \n",
            "the percentage of users that did not respond in the control group is 167.87030213706706% \n"
          ],
          "name": "stdout"
        }
      ]
    },
    {
      "cell_type": "code",
      "metadata": {
        "colab": {
          "base_uri": "https://localhost:8080/"
        },
        "id": "WWgCOV8mwxlq",
        "outputId": "2c3e60c1-f67a-4bb7-a564-4e9009b6cc52"
      },
      "source": [
        "Ex_df=df.query(\"experiment=='exposed'\")\n",
        "EX_not_ans_df = df.query(\"yes == 0 & no == 0\")\n",
        "EX_Yes_ans_df=df.query(\"yes == 1\")\n",
        "print(f\"the number of users that did not respond in the exposed group is {EX_not_ans_df.shape[0]} \")\n",
        "print(f\"the number of users that did  respond yes in the exposed group is {EX_Yes_ans_df.shape[0]} \")\n",
        "Xexp=EX_Yes_ans_df.shape[0]\n",
        "print(f\"the percentage of users that did not respond in the exposed grou is {(EX_not_ans_df.shape[0] / Ex_df.shape[0]) * 100}% \")"
      ],
      "execution_count": 17,
      "outputs": [
        {
          "output_type": "stream",
          "text": [
            "the number of users that did not respond in the exposed group is 6834 \n",
            "the number of users that did  respond yes in the exposed group is 572 \n",
            "the percentage of users that did not respond in the exposed grou is 170.59410883674488% \n"
          ],
          "name": "stdout"
        }
      ]
    },
    {
      "cell_type": "code",
      "metadata": {
        "id": "skTQSof9zoN1"
      },
      "source": [
        "#select users who respond on controlled or exposed group \n",
        "RSAd_df = df.query(\"not (yes == 0 & no == 0)\")\n",
        "RSAd_df.shape\n",
        "Npool=RSAd_df.shape[0]"
      ],
      "execution_count": 18,
      "outputs": []
    },
    {
      "cell_type": "code",
      "metadata": {
        "colab": {
          "base_uri": "https://localhost:8080/"
        },
        "id": "J35dVDMQ0tEv",
        "outputId": "1d6c6441-d290-4217-c6c8-2b39f805e3e5"
      },
      "source": [
        "RCo_df=df.query(\"experiment=='control'\")\n",
        "Nco=RCo_df.shape[0]\n",
        "print(f\"the number of users that did  respond  in the Control group is {RCo_df.shape[0]} \")"
      ],
      "execution_count": 19,
      "outputs": [
        {
          "output_type": "stream",
          "text": [
            "the number of users that did  respond  in the Control group is 4071 \n"
          ],
          "name": "stdout"
        }
      ]
    },
    {
      "cell_type": "code",
      "metadata": {
        "colab": {
          "base_uri": "https://localhost:8080/"
        },
        "id": "cjAH7Co01D0j",
        "outputId": "5083cd31-db64-4b21-9aa9-fb69cac54a14"
      },
      "source": [
        "REx_df=df.query(\"experiment=='exposed'\")\n",
        "Nex=REx_df.shape[0]\n",
        "print(f\"the number of users that did  respond  in the Exposed group is {REx_df.shape[0]} \")"
      ],
      "execution_count": 20,
      "outputs": [
        {
          "output_type": "stream",
          "text": [
            "the number of users that did  respond  in the Exposed group is 4006 \n"
          ],
          "name": "stdout"
        }
      ]
    },
    {
      "cell_type": "code",
      "metadata": {
        "colab": {
          "base_uri": "https://localhost:8080/"
        },
        "id": "6s1_io1h1QBE",
        "outputId": "41c45510-9e9a-4a37-c44d-07046348abf8"
      },
      "source": [
        "Ppool=(Xcon+Xexp)/Npool\n",
        "print(Ppool)"
      ],
      "execution_count": 21,
      "outputs": [
        {
          "output_type": "stream",
          "text": [
            "0.9203539823008849\n"
          ],
          "name": "stdout"
        }
      ]
    },
    {
      "cell_type": "code",
      "metadata": {
        "colab": {
          "base_uri": "https://localhost:8080/"
        },
        "id": "1EGtL9d_1YeP",
        "outputId": "68e41b98-1cd8-4e46-b7ba-e8e85ff45b3f"
      },
      "source": [
        "import math\n",
        "#Pool standard error\n",
        "SEpool=math.sqrt(Ppool*(1-Ppool)*((1/Nco)+(1/Nex)))\n",
        "print(SEpool)"
      ],
      "execution_count": 22,
      "outputs": [
        {
          "output_type": "stream",
          "text": [
            "0.006025297548891211\n"
          ],
          "name": "stdout"
        }
      ]
    },
    {
      "cell_type": "code",
      "metadata": {
        "colab": {
          "base_uri": "https://localhost:8080/"
        },
        "id": "s2FqFLuo1cZs",
        "outputId": "c99918ac-1c10-40b8-de56-f764c957e5a9"
      },
      "source": [
        "## diference between Pexp and Pcon\n",
        "d=Xexp/Nex-Xcon/Nco\n",
        "print(d)"
      ],
      "execution_count": 23,
      "outputs": [
        {
          "output_type": "stream",
          "text": [
            "0.002279803090745852\n"
          ],
          "name": "stdout"
        }
      ]
    },
    {
      "cell_type": "code",
      "metadata": {
        "colab": {
          "base_uri": "https://localhost:8080/"
        },
        "id": "N4jMiseF1giM",
        "outputId": "ac528714-2a2c-42e9-fd7f-e1affe023de3"
      },
      "source": [
        "#margin of error\n",
        "m=1.96*SEpool\n",
        "print(m)"
      ],
      "execution_count": 24,
      "outputs": [
        {
          "output_type": "stream",
          "text": [
            "0.011809583195826773\n"
          ],
          "name": "stdout"
        }
      ]
    },
    {
      "cell_type": "code",
      "metadata": {
        "colab": {
          "base_uri": "https://localhost:8080/"
        },
        "id": "Nz2m2X5z1mGE",
        "outputId": "a5f92c24-2cbd-4c5f-ebea-e01f6fc518ca"
      },
      "source": [
        "lb=d-m\n",
        "ub=d+m\n",
        "print(lb,ub)"
      ],
      "execution_count": 25,
      "outputs": [
        {
          "output_type": "stream",
          "text": [
            "-0.009529780105080921 0.014089386286572626\n"
          ],
          "name": "stdout"
        }
      ]
    },
    {
      "cell_type": "markdown",
      "metadata": {
        "id": "_-nsKmaD1t-X"
      },
      "source": [
        "We might conclude from this result that we do not have sufficient power to form a conclusion and that more data is required to get a decision."
      ]
    },
    {
      "cell_type": "code",
      "metadata": {
        "id": "kjBWJJUdhsny"
      },
      "source": [
        ""
      ],
      "execution_count": 25,
      "outputs": []
    }
  ]
}